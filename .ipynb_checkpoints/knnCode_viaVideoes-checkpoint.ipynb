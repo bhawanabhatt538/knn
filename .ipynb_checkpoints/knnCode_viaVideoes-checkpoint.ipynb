{
 "cells": [
  {
   "cell_type": "code",
   "execution_count": 3,
   "metadata": {},
   "outputs": [],
   "source": [
    "import pandas as pd\n",
    "import numpy as np\n",
    "import matplotlib.pyplot as plt\n",
    "import seaborn as sns\n",
    "from sklearn.neighbors import KNeighborsClassifier\n",
    "from sklearn.metrics import accuracy_score\n",
    "from collections import Counter\n",
    "from sklearn.metrics import accuracy_score\n"
   ]
  },
  {
   "cell_type": "code",
   "execution_count": 64,
   "metadata": {},
   "outputs": [
    {
     "name": "stdout",
     "output_type": "stream",
     "text": [
      "        Number    City  Gender  Age    Income Illness\n",
      "0            1  Dallas    Male   41   40367.0      No\n",
      "1            2  Dallas    Male   54   45084.0      No\n",
      "2            3  Dallas    Male   42   52483.0      No\n",
      "3            4  Dallas    Male   40   40941.0      No\n",
      "4            5  Dallas    Male   46   50289.0      No\n",
      "...        ...     ...     ...  ...       ...     ...\n",
      "149995  149996  Austin    Male   48   93669.0      No\n",
      "149996  149997  Austin    Male   25   96748.0      No\n",
      "149997  149998  Austin    Male   26  111885.0      No\n",
      "149998  149999  Austin    Male   25  111878.0      No\n",
      "149999  150000  Austin  Female   37   87251.0      No\n",
      "\n",
      "[150000 rows x 6 columns]\n",
      "\n",
      "\n",
      "\n",
      "[False False False False False False]\n",
      "\n",
      "\n",
      "\n",
      "Number     0\n",
      "City       0\n",
      "Gender     0\n",
      "Age        0\n",
      "Income     0\n",
      "Illness    0\n",
      "dtype: int64\n",
      "        Number    City  Gender  Age    Income Illness\n",
      "0            1  Dallas       0   41   40367.0      No\n",
      "1            2  Dallas       0   54   45084.0      No\n",
      "2            3  Dallas       0   42   52483.0      No\n",
      "3            4  Dallas       0   40   40941.0      No\n",
      "4            5  Dallas       0   46   50289.0      No\n",
      "...        ...     ...     ...  ...       ...     ...\n",
      "149995  149996  Austin       0   48   93669.0      No\n",
      "149996  149997  Austin       0   25   96748.0      No\n",
      "149997  149998  Austin       0   26  111885.0      No\n",
      "149998  149999  Austin       0   25  111878.0      No\n",
      "149999  150000  Austin       1   37   87251.0      No\n",
      "\n",
      "[150000 rows x 6 columns]\n"
     ]
    }
   ],
   "source": [
    "#load the data\n",
    "\n",
    "df = pd.read_csv('data/toy_dataset.csv')\n",
    "print(df)\n",
    "print('\\n\\n')\n",
    "\n",
    "\n",
    "#===EDA===\n",
    "print(df.columns.isnull())\n",
    "print('\\n\\n')\n",
    "\n",
    "\n",
    "\n",
    "print(pd.isnull(df).sum())\n",
    "\n",
    "#change gender column as numeric value\n",
    "gender = {'Female':1, \n",
    "          'Male':0}\n",
    "\n",
    "\n",
    "df.Gender = df.Gender.map(gender)\n",
    "print(df)\n",
    "\n"
   ]
  },
  {
   "cell_type": "code",
   "execution_count": 66,
   "metadata": {},
   "outputs": [
    {
     "name": "stdout",
     "output_type": "stream",
     "text": [
      "<class 'pandas.core.series.Series'>\n",
      "        Number  City  Gender  Age    Income  Illness\n",
      "0            1     3       0   41   40367.0        1\n",
      "1            2     3       0   54   45084.0        1\n",
      "2            3     3       0   42   52483.0        1\n",
      "3            4     3       0   40   40941.0        1\n",
      "4            5     3       0   46   50289.0        1\n",
      "...        ...   ...     ...  ...       ...      ...\n",
      "149995  149996     1       0   48   93669.0        1\n",
      "149996  149997     1       0   25   96748.0        1\n",
      "149997  149998     1       0   26  111885.0        1\n",
      "149998  149999     1       0   25  111878.0        1\n",
      "149999  150000     1       1   37   87251.0        1\n",
      "\n",
      "[150000 rows x 6 columns]\n"
     ]
    }
   ],
   "source": [
    "\n",
    "#==========data preprocessing========\n",
    "    #convert categorical value into numeric value\n",
    "\n",
    "\n",
    "print(type(df['City']))\n",
    "\n",
    "df['City'] = pd.factorize(df['City'], sort=True)[0] + 1\n",
    "\n",
    "\n",
    "df['Illness'] = pd.factorize(df['Illness'] , sort = True)[0] + 1\n",
    "print(df)\n"
   ]
  },
  {
   "cell_type": "code",
   "execution_count": 67,
   "metadata": {},
   "outputs": [
    {
     "name": "stdout",
     "output_type": "stream",
     "text": [
      "[[1.00000e+00 3.00000e+00 0.00000e+00 4.10000e+01 4.03670e+04 1.00000e+00]\n",
      " [2.00000e+00 3.00000e+00 0.00000e+00 5.40000e+01 4.50840e+04 1.00000e+00]\n",
      " [3.00000e+00 3.00000e+00 0.00000e+00 4.20000e+01 5.24830e+04 1.00000e+00]\n",
      " ...\n",
      " [1.49998e+05 1.00000e+00 0.00000e+00 2.60000e+01 1.11885e+05 1.00000e+00]\n",
      " [1.49999e+05 1.00000e+00 0.00000e+00 2.50000e+01 1.11878e+05 1.00000e+00]\n",
      " [1.50000e+05 1.00000e+00 1.00000e+00 3.70000e+01 8.72510e+04 1.00000e+00]]\n",
      "\n",
      "\n",
      "\n",
      "[1 1 1 ... 1 1 1]\n"
     ]
    }
   ],
   "source": [
    "x = np.array(df.iloc[:,0:6])\n",
    "y = np.array(df.iloc[:,-1])\n",
    "\n",
    "print(x)\n",
    "print('\\n\\n')\n",
    "print(y)"
   ]
  },
  {
   "cell_type": "code",
   "execution_count": null,
   "metadata": {},
   "outputs": [],
   "source": [
    "#============Simple Cross Validation=======\n",
    "from sklearn.neighbors import KNeighborsClassifier\n",
    "from sklearn.model_selection import train_test_split\n",
    "#split the data set into train and test\n",
    "x1 ,xtest , y1 , ytest = train_test_split(x,y,test_size=0.3,random_state = 42)\n",
    "\n",
    "#split the train data set into cross validation train and cross validation\n",
    "x_tr, x_cv, y_tr, y_cv = train_test_split(x1,y1,test_size=0.3)\n",
    "\n",
    "for i in range(1,30,2):\n",
    "    #instantiate learning model(k=30)\n",
    "    knn = KNeighborsClassifier(n_neighbors=i)\n",
    "    \n",
    "    #fitting the model on  train\n",
    "    knn.fit(x_tr, y_tr)\n",
    "    \n",
    "    #predict the reponse on the crossvalidation train\n",
    "    cv_pred = knn.predict(x_cv)\n",
    "    \n",
    "    cv_acc= accuracy_score(y_cv, cv_pred) * float(100)\n",
    "    \n",
    "    print(\"the accuracy on cv when k = {}  is {:.2f}% \".format(i, cv_acc))\n",
    "\n",
    "\n",
    "    knn = KNeighborsClassifier(1)\n",
    "    knn.fit(x_tr,y_tr)\n",
    "    pred = knn.predict(xtest)\n",
    "    test_acc= accuracy_score(ytest, pred)\n",
    "    \n",
    "    print('\\n test accurancy for k = 1 is=',test_acc)\n",
    "    \n",
    "    \n",
    "    \n",
    "    "
   ]
  },
  {
   "cell_type": "code",
   "execution_count": null,
   "metadata": {},
   "outputs": [],
   "source": [
    "#================10 fold cross vlaidation=================\n",
    "\n",
    "#creating odd list of k for knn\n",
    "\n",
    "mylist = list(range(0,50))\n",
    "neighbors = list(filter(lambda x:x % 2!=0 , mylist))#have to look into it\n",
    "\n",
    "#empty list that will hold cv scores\n",
    "cv_scores = []\n",
    "\n",
    "#perform 10 fold  cross validation\n",
    "for k in neighbors:\n",
    "    knn = KNeighborsClassifier(n_neighbors=k)\n",
    "    scoress = cross_val_score(knn, x_train , y_train , cv=10 , scoring ='accuracy')\n",
    "    cv.scores.append(scores.mean())\n",
    "\n",
    "    \n",
    "    \n",
    "# changing to missclassification error\n",
    "MSE = [1-x for x in cv_scores]\n",
    "\n",
    "#determining best k\n",
    "optimal_k = neighbors[MSE.index(min(MSE))]\n",
    "print('\\n the optimal number of neighbors is %d.'%optimal_k)\n",
    "\n",
    "\n",
    "#plot misclassification error vs k \n",
    "plt.plot(neighbors ,MSE)\n",
    "\n",
    "for xy in zip(neighbors , np.round(MSE,3)):\n",
    "    plt.annotate('(%s,%s)' % xy ,xy = xy ,textcoords = 'data')\n",
    "    \n",
    "plt.xlabel('number of neighbors k')\n",
    "plt.ylabel('misclassification Error')\n",
    "plt.show()\n",
    "\n",
    "print('the misclassification error for each k value is :', np.round(MSE,3))\n",
    "\n",
    "\n",
    "\n",
    "\n",
    "\n",
    "\n",
    "\n",
    "\n",
    "\n",
    "\n"
   ]
  },
  {
   "cell_type": "code",
   "execution_count": 34,
   "metadata": {},
   "outputs": [
    {
     "ename": "NameError",
     "evalue": "name 'optimal_k' is not defined",
     "output_type": "error",
     "traceback": [
      "\u001b[1;31m---------------------------------------------------------------------------\u001b[0m",
      "\u001b[1;31mNameError\u001b[0m                                 Traceback (most recent call last)",
      "\u001b[1;32m<ipython-input-34-4d843a237f9c>\u001b[0m in \u001b[0;36m<module>\u001b[1;34m\u001b[0m\n\u001b[0;32m      1\u001b[0m \u001b[1;31m#=================knn with k = optimal_k=============\u001b[0m\u001b[1;33m\u001b[0m\u001b[1;33m\u001b[0m\u001b[1;33m\u001b[0m\u001b[0m\n\u001b[0;32m      2\u001b[0m \u001b[1;31m#instantiate learning model k = optimal_k\u001b[0m\u001b[1;33m\u001b[0m\u001b[1;33m\u001b[0m\u001b[1;33m\u001b[0m\u001b[0m\n\u001b[1;32m----> 3\u001b[1;33m \u001b[0mknn_optimal\u001b[0m \u001b[1;33m=\u001b[0m \u001b[0mKNeighborsClassifier\u001b[0m\u001b[1;33m(\u001b[0m\u001b[0mn_neighbors\u001b[0m \u001b[1;33m=\u001b[0m \u001b[0moptimal_k\u001b[0m\u001b[1;33m)\u001b[0m\u001b[1;33m\u001b[0m\u001b[1;33m\u001b[0m\u001b[0m\n\u001b[0m\u001b[0;32m      4\u001b[0m \u001b[1;33m\u001b[0m\u001b[0m\n\u001b[0;32m      5\u001b[0m \u001b[1;31m#fitting the model\u001b[0m\u001b[1;33m\u001b[0m\u001b[1;33m\u001b[0m\u001b[1;33m\u001b[0m\u001b[0m\n",
      "\u001b[1;31mNameError\u001b[0m: name 'optimal_k' is not defined"
     ]
    }
   ],
   "source": [
    "#=================knn with k = optimal_k=============\n",
    "#instantiate learning model k = optimal_k\n",
    "knn_optimal = KNeighborsClassifier(n_neighbors = optimal_k)\n",
    "\n",
    "#fitting the model\n",
    "knn_optimal.fit(x_train , y_train)\n",
    "\n",
    "#predict the response\n",
    "pred = knn_optimal.predict(x_test)\n",
    "\n",
    "#evaluate accuracy\n",
    "acc = accuracy_score(y_test,pred)*100\n",
    "print('\\n the accuracy of the knn classifier for k = %d is %f%%' %(optimal_))\n",
    "\n",
    "\n"
   ]
  },
  {
   "cell_type": "code",
   "execution_count": null,
   "metadata": {},
   "outputs": [],
   "source": []
  }
 ],
 "metadata": {
  "kernelspec": {
   "display_name": "Python 3",
   "language": "python",
   "name": "python3"
  },
  "language_info": {
   "codemirror_mode": {
    "name": "ipython",
    "version": 3
   },
   "file_extension": ".py",
   "mimetype": "text/x-python",
   "name": "python",
   "nbconvert_exporter": "python",
   "pygments_lexer": "ipython3",
   "version": "3.7.6"
  }
 },
 "nbformat": 4,
 "nbformat_minor": 4
}
