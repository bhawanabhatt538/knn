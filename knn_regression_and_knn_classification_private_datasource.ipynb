{
 "cells": [
  {
   "cell_type": "code",
   "execution_count": 6,
   "metadata": {},
   "outputs": [],
   "source": [
    "#import libraries\n",
    "import pandas as pd\n",
    "import numpy as np\n",
    "import seaborn as sns\n",
    "import matplotlib.pyplot as plt\n",
    "# Input data files are available in the \"../input/\" directory.\n",
    "# For example, running this (by clicking run or pressing Shift+Enter)will list all files under the input directory\n",
    "\n",
    "\n",
    "import os\n",
    "for dirname, _,filenames in os.walk('bhawana_practice/datafiles'):\n",
    "    for filename in filenames:\n",
    "        print(os.path.join(dirname,filename))\n"
   ]
  },
  {
   "cell_type": "code",
   "execution_count": null,
   "metadata": {},
   "outputs": [],
   "source": [
    "# K Nearest Neighbour Classification\n",
    "# Read the data\n",
    "# Split the x and y variables from train and test.\n",
    "# Try to see how the data looks like by writing one record to csv\n",
    "# Looking at 5 samples from train and test.\n",
    "# Build knn model with k=3. Check the model performance.\n",
    "# look at the sample misclassified points.\n",
    "# Use grid search for model building and check the model performance.\n",
    "\n",
    "\n",
    "#1. read the data \n",
    "\n",
    "\n",
    "\n",
    "\n"
   ]
  },
  {
   "cell_type": "code",
   "execution_count": null,
   "metadata": {},
   "outputs": [],
   "source": []
  }
 ],
 "metadata": {
  "kernelspec": {
   "display_name": "Python 3",
   "language": "python",
   "name": "python3"
  },
  "language_info": {
   "codemirror_mode": {
    "name": "ipython",
    "version": 3
   },
   "file_extension": ".py",
   "mimetype": "text/x-python",
   "name": "python",
   "nbconvert_exporter": "python",
   "pygments_lexer": "ipython3",
   "version": "3.7.6"
  }
 },
 "nbformat": 4,
 "nbformat_minor": 4
}
